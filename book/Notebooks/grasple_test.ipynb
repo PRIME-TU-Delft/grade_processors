{
 "cells": [
  {
   "cell_type": "markdown",
   "id": "35618cc0",
   "metadata": {},
   "source": [
    "# Grasple Test to Microsoft Excel\n",
    "\n",
    "o,porty Below you can upload a `.csv`-file exported from a Grasple test. The file will be converted to a Microsoft Excel file, which downloads automatically after generation."
   ]
  },
  {
   "cell_type": "code",
   "execution_count": null,
   "id": "30c6fec9",
   "metadata": {},
   "outputs": [],
   "source": [
    "import pandas as pd\n",
    "import ipywidgets as widgets\n",
    "from IPython.display import display, clear_output\n",
    "import io\n",
    "\n",
    "# Widgets\n",
    "upload = widgets.FileUpload(accept='.csv', multiple=False)\n",
    "output = widgets.Output()\n",
    "\n",
    "def on_upload_change(change):\n",
    "    output.clear_output()\n",
    "    if upload.value:\n",
    "        with output:\n",
    "            try:\n",
    "                # Retrieve the first file from the tuple\n",
    "                uploaded_file = upload.value[0] if isinstance(upload.value, tuple) else list(upload.value.values())[0]\n",
    "                \n",
    "                # In some environments, upload.value[0] is a dictionary.\n",
    "                if isinstance(uploaded_file, dict):\n",
    "                    content = uploaded_file['content']\n",
    "                else:\n",
    "                    # Soms is het een tuple (name, file dict)\n",
    "                    content = uploaded_file[1]['content']\n",
    "                \n",
    "                df = pd.read_csv(io.BytesIO(content))\n",
    "                print(\"✅ CSV successfully loaded.\")\n",
    "                # convert to pivot table\n",
    "                # extract the unique question pool name from the column names\n",
    "                question_pool_names = df['question_pool_name'].unique()\n",
    "                display(question_pool_names)\n",
    "                pvt = pd.pivot_table(df,values=\"scored_points\",index=\"student_id\", aggfunc=\"sum\", fill_value=0,columns=\"question_pool_name\")\n",
    "                display(pvt)\n",
    "            except Exception as e:\n",
    "                print(\"❌ Error loading CSV:\")\n",
    "                print(e)\n",
    "\n",
    "upload.observe(on_upload_change, names='value')\n",
    "\n",
    "# Toon de widgets\n",
    "display(upload, output)"
   ]
  }
 ],
 "metadata": {
  "kernelspec": {
   "display_name": "Python 3",
   "language": "python",
   "name": "python3"
  },
  "language_info": {
   "codemirror_mode": {
    "name": "ipython",
    "version": 3
   },
   "file_extension": ".py",
   "mimetype": "text/x-python",
   "name": "python",
   "nbconvert_exporter": "python",
   "pygments_lexer": "ipython3",
   "version": "3.12.3"
  }
 },
 "nbformat": 4,
 "nbformat_minor": 5
}
