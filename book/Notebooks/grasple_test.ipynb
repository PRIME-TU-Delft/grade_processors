{
 "cells": [
  {
   "cell_type": "markdown",
   "id": "35618cc0",
   "metadata": {},
   "source": [
    "# Grasple Test to Microsoft Excel\n",
    "\n",
    "o,porty Below you can upload a `.csv`-file exported from a Grasple test. The file will be converted to a Microsoft Excel file, which downloads automatically after generation."
   ]
  },
  {
   "cell_type": "code",
   "execution_count": null,
   "id": "30c6fec9",
   "metadata": {},
   "outputs": [],
   "source": [
    "import micropip\n",
    "await micropip.install(\"dash\")\n",
    "\n",
    "import dash\n",
    "from dash import dcc, html, Input, Output, State, dash_table\n",
    "import pandas as pd\n",
    "import base64\n",
    "import io\n",
    "\n",
    "# Initialiseer de Dash app\n",
    "app = dash.Dash(__name__)\n",
    "\n",
    "# Layout van de app\n",
    "app.layout = html.Div([\n",
    "    html.H2(\"CSV Upload en Weergave\"),\n",
    "    dcc.Upload(\n",
    "        id='upload-data',\n",
    "        children=html.Button('Upload CSV'),\n",
    "        multiple=False\n",
    "    ),\n",
    "    html.Div(id='output-table')\n",
    "])\n",
    "\n",
    "# Callback voor het verwerken van de upload\n",
    "@app.callback(\n",
    "    Output('output-table', 'children'),\n",
    "    Input('upload-data', 'contents'),\n",
    "    State('upload-data', 'filename')\n",
    ")\n",
    "def update_table(contents, filename):\n",
    "    if contents is None:\n",
    "        return html.P(\"Upload een CSV-bestand om de inhoud te bekijken.\")\n",
    "    \n",
    "    # Decodeer de inhoud van het bestand\n",
    "    content_type, content_string = contents.split(',')\n",
    "    decoded = base64.b64decode(content_string)\n",
    "    try:\n",
    "        df = pd.read_csv(io.StringIO(decoded.decode('utf-8')))\n",
    "    except Exception as e:\n",
    "        return html.P(f\"Fout bij inlezen bestand: {e}\")\n",
    "    \n",
    "    # Toon DataFrame als Dash DataTable\n",
    "    return dash_table.DataTable(\n",
    "        data=df.to_dict('records'),\n",
    "        columns=[{'name': i, 'id': i} for i in df.columns],\n",
    "        page_size=10,  # aantal rijen per pagina\n",
    "        style_table={'overflowX': 'auto'},\n",
    "        style_cell={'textAlign': 'left'}\n",
    "    )\n",
    "\n",
    "# Start de server\n",
    "if __name__ == '__main__':\n",
    "    app.run(debug=True)"
   ]
  }
 ],
 "metadata": {
  "kernelspec": {
   "display_name": "Python 3",
   "language": "python",
   "name": "python3"
  },
  "language_info": {
   "codemirror_mode": {
    "name": "ipython",
    "version": 3
   },
   "file_extension": ".py",
   "mimetype": "text/x-python",
   "name": "python",
   "nbconvert_exporter": "python",
   "pygments_lexer": "ipython3",
   "version": "3.12.3"
  }
 },
 "nbformat": 4,
 "nbformat_minor": 5
}
